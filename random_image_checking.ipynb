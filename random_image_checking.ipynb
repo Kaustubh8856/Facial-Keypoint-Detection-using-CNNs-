{
 "cells": [
  {
   "cell_type": "code",
   "execution_count": 1,
   "id": "495c025a",
   "metadata": {},
   "outputs": [],
   "source": [
    "import cv2\n",
    "import numpy as np\n",
    "import tensorflow as tf\n",
    "import os\n"
   ]
  },
  {
   "cell_type": "code",
   "execution_count": 2,
   "id": "3def17f2",
   "metadata": {},
   "outputs": [],
   "source": [
    "def load_model(model_path):\n",
    "    model = tf.keras.models.load_model(model_path, compile=False)\n",
    "    return model\n",
    "\n",
    "def preprocess_image(image_path, target_size=(128, 128)):\n",
    "    original = cv2.imread(image_path)\n",
    "    if original is None:\n",
    "        raise ValueError(f\"Image not found: {image_path}\")\n",
    "    original_rgb = cv2.cvtColor(original, cv2.COLOR_BGR2RGB)\n",
    "    resized = cv2.resize(original_rgb, target_size)\n",
    "    normalized = resized.astype(\"float32\") / 255.0\n",
    "    return original, normalized\n",
    "\n",
    "def predict_keypoints(model, image_array, original_size):\n",
    "    input_batch = np.expand_dims(image_array, axis=0)  # shape: (1, 128, 128, 3)\n",
    "    preds = model.predict(input_batch)[0]  # shape: (10,)\n",
    "    preds = preds.reshape(5, 2)  # 5 keypoints\n",
    "\n",
    "    # Rescale to original image size\n",
    "    h, w = original_size\n",
    "    preds[:, 0] *= w  # x-coordinates\n",
    "    preds[:, 1] *= h  # y-coordinates\n",
    "    return preds\n",
    "\n",
    "def draw_keypoints(image, keypoints, color=(0, 255, 0)):\n",
    "    h, w = image.shape[:2]\n",
    "    radius = max(2, int(0.005 * max(h, w)))  # ~0.5% of image dimension\n",
    "    for (x, y) in keypoints.astype(int):\n",
    "        cv2.circle(image, (x, y), radius=radius, color=color, thickness=-1)\n",
    "    return image\n",
    "\n",
    "def show_resized_window(window_name, image, max_dim=800):\n",
    "    h, w = image.shape[:2]\n",
    "    scale = min(max_dim / max(h, w), 1.0)\n",
    "    resized = cv2.resize(image, (int(w * scale), int(h * scale)))\n",
    "    cv2.imshow(window_name, resized)\n",
    "    cv2.waitKey(0)\n",
    "    cv2.destroyAllWindows()\n",
    "\n",
    "def run_on_random_image(model_path, image_path):\n",
    "    model = load_model(model_path)\n",
    "    original_img, preprocessed_img = preprocess_image(image_path)\n",
    "    original_size = original_img.shape[:2]  # (height, width)\n",
    "\n",
    "    keypoints = predict_keypoints(model, preprocessed_img, original_size)\n",
    "    print(\"🔍 Predicted Keypoints:\\n\", keypoints)\n",
    "\n",
    "    vis_img = draw_keypoints(original_img.copy(), keypoints)\n",
    "    show_resized_window(\"Predicted Keypoints\", vis_img)\n"
   ]
  },
  {
   "cell_type": "code",
   "execution_count": 17,
   "id": "30002ebb",
   "metadata": {},
   "outputs": [
    {
     "name": "stdout",
     "output_type": "stream",
     "text": [
      "\u001b[1m1/1\u001b[0m \u001b[32m━━━━━━━━━━━━━━━━━━━━\u001b[0m\u001b[37m\u001b[0m \u001b[1m2s\u001b[0m 2s/step\n",
      "🔍 Predicted Keypoints:\n",
      " [[202.57327 178.43765]\n",
      " [132.3237  141.12312]\n",
      " [250.72772 143.2703 ]\n",
      " [156.88736 208.70575]\n",
      " [234.19151 209.24107]]\n"
     ]
    }
   ],
   "source": [
    "run_on_random_image(\"EfficientNetV2B0.h5\", \"handOnMouth.png\")"
   ]
  },
  {
   "cell_type": "code",
   "execution_count": null,
   "id": "46d1952e",
   "metadata": {},
   "outputs": [],
   "source": []
  }
 ],
 "metadata": {
  "kernelspec": {
   "display_name": "assignment",
   "language": "python",
   "name": "python3"
  },
  "language_info": {
   "codemirror_mode": {
    "name": "ipython",
    "version": 3
   },
   "file_extension": ".py",
   "mimetype": "text/x-python",
   "name": "python",
   "nbconvert_exporter": "python",
   "pygments_lexer": "ipython3",
   "version": "3.11.4"
  }
 },
 "nbformat": 4,
 "nbformat_minor": 5
}
